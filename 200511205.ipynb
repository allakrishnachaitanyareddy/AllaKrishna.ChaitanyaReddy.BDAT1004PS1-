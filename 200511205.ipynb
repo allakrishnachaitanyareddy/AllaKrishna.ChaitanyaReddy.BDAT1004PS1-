{
 "cells": [
  {
   "cell_type": "markdown",
   "id": "793f0d6f",
   "metadata": {},
   "source": [
    "# Question 1 C#\n",
    "What data type is each of the following?"
   ]
  },
  {
   "cell_type": "markdown",
   "id": "7c425832",
   "metadata": {},
   "source": [
    "5\n",
    "integer\n",
    "\n",
    "5.0\n",
    "float\n",
    "\n",
    "5 > 1\n",
    "boolean\n",
    "\n",
    "'5'\n",
    "character\n",
    "\n",
    "5 * 2\n",
    "Arithematic operator (Multiplication)\n",
    "\n",
    "'5' * 2\n",
    "string\n",
    "\n",
    "'5' + '2'\n",
    "string concatenation\n",
    "\n",
    "5 / 2\n",
    "Division\n",
    "\n",
    "5 % 2\n",
    "Modulus\n",
    "\n",
    "{5, 2, 1}\n",
    "Array\n",
    "\n",
    "5 == 3\n",
    "Comparion operator (equal to)\n",
    "\n",
    "Pi (the number) \n",
    "float/double"
   ]
  },
  {
   "cell_type": "markdown",
   "id": "bb385841",
   "metadata": {},
   "source": [
    "# Question 2 C#\n",
    "Write (and evaluate) C# expressions that answer these questions:\n",
    "a. How many letters are there in 'Supercalifragilisticexpialidocious'?"
   ]
  },
  {
   "cell_type": "code",
   "execution_count": null,
   "id": "0a7fad9c",
   "metadata": {},
   "outputs": [],
   "source": [
    "using System;\n",
    "\n",
    "namespace Demo\n",
    "{\n",
    "  class length\n",
    "  {\n",
    "    static void Main(string[] args)\n",
    "    {\n",
    "      string txt = \"Supercalifragilisticexpialidocious\";\n",
    "      Console.WriteLine(\"The total number of letters in given string is: \" + txt.Length);\n",
    "    }\n",
    "  }\n",
    "}"
   ]
  },
  {
   "cell_type": "code",
   "execution_count": null,
   "id": "e8506c0f",
   "metadata": {},
   "outputs": [],
   "source": [
    "The total number of letters in given string is: 34"
   ]
  },
  {
   "cell_type": "markdown",
   "id": "8f85afb6",
   "metadata": {},
   "source": [
    "b. Does 'Supercalifragilisticexpialidocious' contain 'ice' as a substring?"
   ]
  },
  {
   "cell_type": "code",
   "execution_count": null,
   "id": "019a3946",
   "metadata": {},
   "outputs": [],
   "source": [
    "using System;\n",
    "  \n",
    "class substring {\n",
    "    static void Main(string[] args) {\n",
    "        String str = \"Supercalifragilisticexpialidocious\";\n",
    "        String value = \"ice\";\n",
    "        Boolean result = str.Contains(value);                               // the two Boolean values are false and true\n",
    "        Console.WriteLine($\"Does string contain ice substring? {result}\");\n",
    "\n",
    "\n",
    "    }\n",
    "}"
   ]
  },
  {
   "cell_type": "code",
   "execution_count": null,
   "id": "38ae0a4f",
   "metadata": {},
   "outputs": [],
   "source": [
    "Does string contain ice substring? True"
   ]
  },
  {
   "cell_type": "markdown",
   "id": "4ec2e6c8",
   "metadata": {},
   "source": [
    "c. Which of the following words is the longest: \n",
    "Supercalifragilisticexpialidocious, Honorificabilitudinitatibus, or \n",
    "Bababadalgharaghtakamminarronnkonn? "
   ]
  },
  {
   "cell_type": "code",
   "execution_count": null,
   "id": "97480ef3",
   "metadata": {},
   "outputs": [],
   "source": [
    "namespace Demo\n",
    "{\n",
    "    class Lword\n",
    "    {\n",
    "        static void Main()\n",
    "        {\n",
    "            string largest = \"\";\n",
    "            string input = \"Supercalifragilisticexpialidocious , Honorificabilitudinitatibus , Bababadalgharaghtakamminarronnkonn\";\n",
    "            string[] array = input.Split(' ');  //original string separated by the delimiters\n",
    "\n",
    "            for (int i = 0; i < array.Length; i++)\n",
    "            {\n",
    "\n",
    "                if (array[i].Length > largest.Length)\n",
    "                {\n",
    "                    largest = array[i];\n",
    "                }\n",
    "\n",
    "            }\n",
    "            Console.WriteLine(\"Largest word is: \" + largest);\n",
    "\n",
    "        }\n",
    "    }\n",
    "}"
   ]
  },
  {
   "cell_type": "code",
   "execution_count": null,
   "id": "cc190aa0",
   "metadata": {},
   "outputs": [],
   "source": [
    "Largest word is: Supercalifragilisticexpialidocious"
   ]
  },
  {
   "cell_type": "markdown",
   "id": "f9d18ea4",
   "metadata": {},
   "source": [
    "d. Which composer comes first in the dictionary: 'Berlioz', 'Borodin', 'Brian', \n",
    "'Bartok', 'Bellini', 'Buxtehude', 'Bernstein'. Which one comes last?"
   ]
  },
  {
   "cell_type": "code",
   "execution_count": null,
   "id": "85dcc775",
   "metadata": {},
   "outputs": [],
   "source": [
    "using System;\n",
    "using System.Collections.Generic;\n",
    "\n",
    "public class sDictionary\n",
    "{\n",
    "    public static void Main(string[] args)\n",
    "    {\n",
    "        Dictionary<string, string> composer = new Dictionary<string, string>();\n",
    "        composer.Add(\"Berlioz\", \"\");\n",
    "        composer.Add(\"Borodin\", \"\");\n",
    "        composer.Add(\"Brian\", \"\");\n",
    "        composer.Add(\"Bartok\", \"\");\n",
    "        composer.Add(\"Bellini\", \"\");\n",
    "        composer.Add(\"Buxtehude\", \"\");\n",
    "        composer.Add(\"Bernstein\", \"\");\n",
    "        foreach (KeyValuePair<string, string> kvalue in composer)\n",
    "        {\n",
    "            Console.WriteLine(kvalue.Key + \" \" + kvalue.Value);\n",
    "        }\n",
    "    }\n",
    "}"
   ]
  },
  {
   "cell_type": "code",
   "execution_count": null,
   "id": "5ae909c4",
   "metadata": {},
   "outputs": [],
   "source": [
    "Berlioz\n",
    "Borodin\n",
    "Brian\n",
    "Bartok\n",
    "Bellini\n",
    "Buxtehude\n",
    "Bernstein"
   ]
  },
  {
   "cell_type": "markdown",
   "id": "f2ba1ada",
   "metadata": {},
   "source": [
    "# Question 3 C#\n",
    "Implement function triangleArea(a,b,c) that takes as input the lengths of the 3\n",
    "sides of a triangle and returns the area of the triangle. By Heron's formula, the area \n",
    "of a triangle with side lengths a, b, and c is\n",
    "s(s - a)(s -b)(s -c)\n",
    ", where \n",
    "s = (a+b+c)/2. "
   ]
  },
  {
   "cell_type": "code",
   "execution_count": null,
   "id": "e65b92b4",
   "metadata": {},
   "outputs": [],
   "source": [
    "#Question 3\n",
    "using System;\n",
    "\n",
    "namespace Demo\n",
    "{\n",
    "    public class Program\n",
    "    {\n",
    "        public static void Main(string[] args)\n",
    "        {\n",
    "            double s, area;\n",
    "            double a, b, c;\n",
    "\n",
    "            Console.WriteLine(\"Enter side #1\");\n",
    "            a = double.Parse(Console.ReadLine());   //double.Parse(String, NumberStyles, IFormatProvider) converts the string representation of a number in a specified style\n",
    "            Console.WriteLine(\"Enter side #2\");\n",
    "            b = double.Parse(Console.ReadLine());\n",
    "            Console.WriteLine(\"Enter side #3\");\n",
    "            c = double.Parse(Console.ReadLine());\n",
    "\n",
    "            s = (a + b + c) / 2;\n",
    "            area = Math.Sqrt(s * (s - a) * (s - b) * (s - c));\n",
    "\n",
    "            Console.WriteLine(\"Area = {0}\", area);\n",
    "        }\n",
    "    }\n",
    "}"
   ]
  },
  {
   "cell_type": "code",
   "execution_count": null,
   "id": "8265ed87",
   "metadata": {},
   "outputs": [],
   "source": [
    "Enter side #1\n",
    "5\n",
    "Enter side #2\n",
    "4\n",
    "Enter side #3\n",
    "3\n",
    "Area = 6"
   ]
  },
  {
   "cell_type": "markdown",
   "id": "331f788f",
   "metadata": {},
   "source": [
    "# Question 4 C#\n",
    "Write a program in C# Sharp to separate odd and even integers in separate arrays. "
   ]
  },
  {
   "cell_type": "code",
   "execution_count": null,
   "id": "9de42baa",
   "metadata": {},
   "outputs": [],
   "source": [
    "\n",
    "using System;\n",
    "    public class evenodd\n",
    "    {\n",
    "        public static void Main(string[] args)\n",
    "        {\n",
    "            int[] arr1 = new int[5];\n",
    "            arr1[0] = 25;\n",
    "            arr1[1] = 47;\n",
    "            arr1[2] = 42;\n",
    "            arr1[3] = 56;\n",
    "            arr1[4] = 32;\n",
    "            int[] arr2 = new int[5];\n",
    "            int[] arr3 = new int[5];\n",
    "            int i, j = 0, k = 0;\n",
    "            for (i = 0; i < 5; i++)\n",
    "            {\n",
    "                if (arr1[i] % 2 == 0)\n",
    "                {\n",
    "                    arr2[j] = arr1[i];\n",
    "                    j++;\n",
    "                }\n",
    "                else\n",
    "                {\n",
    "                    arr3[k] = arr1[i];\n",
    "                    k++;\n",
    "                }\n",
    "            }\n",
    "            Console.WriteLine(\"Even elements are...\");\n",
    "            for (i = 0; i < j; i++)\n",
    "            {\n",
    "                Console.WriteLine(arr2[i]);\n",
    "            }\n",
    "            Console.WriteLine(\"Odd elements are...\");\n",
    "            for (i = 0; i < k; i++)\n",
    "            {\n",
    "                Console.WriteLine(arr3[i]);\n",
    "            }\n",
    "        }\n",
    "    }\n"
   ]
  },
  {
   "cell_type": "code",
   "execution_count": null,
   "id": "c456eecd",
   "metadata": {},
   "outputs": [],
   "source": [
    "Even elements are...\n",
    "42\n",
    "56\n",
    "32\n",
    "Odd elements are...\n",
    "25\n",
    "47"
   ]
  },
  {
   "cell_type": "markdown",
   "id": "5dba3133",
   "metadata": {},
   "source": [
    "# Question 5 \n",
    "a. Write a function inside(x,y,x1,y1,x2,y2) that returns True or False \n",
    "depending on whether the point (x,y) lies in the rectangle with lower left \n",
    "corner (x1,y1) and upper right corner (x2,y2).\n",
    "\n"
   ]
  },
  {
   "cell_type": "code",
   "execution_count": 21,
   "id": "0e7ac673",
   "metadata": {},
   "outputs": [
    {
     "name": "stdout",
     "output_type": "stream",
     "text": [
      "True\n"
     ]
    }
   ],
   "source": [
    "def inside(x,y,x1,y1,x2,y2):             #defkeyword is used to create a function\n",
    "    if x2 >= x >= x1 and y2 >= y >= y1:\n",
    "        print('True')\n",
    "    else:\n",
    "        print('False')\n",
    "inside(1,1,0,0,2,3)"
   ]
  },
  {
   "cell_type": "code",
   "execution_count": 11,
   "id": "82531ebd",
   "metadata": {},
   "outputs": [
    {
     "name": "stdout",
     "output_type": "stream",
     "text": [
      "False\n"
     ]
    }
   ],
   "source": [
    "inside(-1,-1,0,0,2,3)"
   ]
  },
  {
   "cell_type": "markdown",
   "id": "0e4223c9",
   "metadata": {},
   "source": [
    "#b. Use function inside() from part a. to write an expression that tests whether \n",
    "the point (1,1) lies in both of the following rectangles: one with lower left \n",
    "corner (0.3, 0.5) and upper right corner (1.1, 0.7) and the other with lower \n",
    "left corner (0.5, 0.2) and upper right corner (1.1, 2). "
   ]
  },
  {
   "cell_type": "code",
   "execution_count": 15,
   "id": "e27a4303",
   "metadata": {},
   "outputs": [
    {
     "name": "stdout",
     "output_type": "stream",
     "text": [
      "False\n"
     ]
    }
   ],
   "source": [
    "if inside(1,1,0.3,0.5,1.1,0.7) == 'True' and inside(1.1, 0.7,1.1, 2) == 'True':\n",
    "    print(\"true\")\n"
   ]
  },
  {
   "cell_type": "markdown",
   "id": "97d4e945",
   "metadata": {},
   "source": [
    "# Question 6 Python\n",
    "16. You can turn a word into pig-Latin using the following two rules (simplified):\n",
    "• If the word starts with a consonant, move that letter to the end and append \n",
    "'ay'. For example, 'happy' becomes 'appyhay' and 'pencil' becomes 'encilpay'.\n",
    "• If the word starts with a vowel, simply append 'way' to the end of the word. \n",
    "For example, 'enter' becomes 'enterway' and 'other' becomes 'otherway' . For \n",
    "our purposes, there are 5 vowels: a, e, i, o, u (so we count y as a consonant).\n",
    "Write a function pig() that takes a word (i.e., a string) as input and returns its pig\u0002Latin form. Your function should still work if the input word contains upper case \n",
    "characters. Your output should always be lower case however."
   ]
  },
  {
   "cell_type": "code",
   "execution_count": 1,
   "id": "387f3713",
   "metadata": {},
   "outputs": [
    {
     "name": "stdout",
     "output_type": "stream",
     "text": [
      "Please enter a word: happy\n"
     ]
    },
    {
     "data": {
      "text/plain": [
       "'appyhay'"
      ]
     },
     "execution_count": 1,
     "metadata": {},
     "output_type": "execute_result"
    }
   ],
   "source": [
    "w = input('Please enter a word: ')\n",
    "def pig(w):\n",
    "    if w[0] == 'a' or w[0] == 'e' or w[0] == 'i' or w[0] == 'o' or w[0] == 'u' or w[0] == 'A' or w[0] == 'E' or w[0] == 'I' or w[0] == 'O' or w[0] == 'U':    \n",
    "        answer = w.lower() + 'way'\n",
    "    else:\n",
    "        answer = w.lower()[1:] + w.lower()[0] + 'ay'\n",
    "    return answer\n",
    "pig(w)"
   ]
  },
  {
   "cell_type": "code",
   "execution_count": 2,
   "id": "6902cd36",
   "metadata": {},
   "outputs": [
    {
     "data": {
      "text/plain": [
       "'appyhay'"
      ]
     },
     "execution_count": 2,
     "metadata": {},
     "output_type": "execute_result"
    }
   ],
   "source": [
    "pig(\"happy\")"
   ]
  },
  {
   "cell_type": "code",
   "execution_count": 4,
   "id": "fef0d3bc",
   "metadata": {},
   "outputs": [
    {
     "data": {
      "text/plain": [
       "'enterway'"
      ]
     },
     "execution_count": 4,
     "metadata": {},
     "output_type": "execute_result"
    }
   ],
   "source": [
    "pig(\"Enter\")"
   ]
  },
  {
   "cell_type": "markdown",
   "id": "a68152ab",
   "metadata": {},
   "source": [
    "# Question 7 Python\n",
    "File bloodtype1.txt records blood-types of patients (A, B, AB, O or OO) at a clinic. \n",
    "Write a function bldcount() that reads the file with name name and reports (i.e., \n",
    "prints) how many patients there are in each bloodtype.\n"
   ]
  },
  {
   "cell_type": "code",
   "execution_count": 10,
   "id": "792e8c68",
   "metadata": {},
   "outputs": [
    {
     "name": "stdout",
     "output_type": "stream",
     "text": [
      "There are 15 patients of blood type A.\n",
      "There is one patient of blood type B.\n",
      "There are 13 patients of blood type AB.\n",
      "There are 15 patients of blood type O.\n",
      "There are no patients of blood type OO.\n"
     ]
    }
   ],
   "source": [
    "def bldcount(filename):\n",
    "    infile=open(filename, 'r')         #opens Python source code from a local file into a Python object\n",
    "    content= infile.read()\n",
    "    infile.close()\n",
    "    content=content.split()\n",
    "    bloodtype = ['A','B','AB','O','OO']\n",
    "    for i in bloodtype:\n",
    "        if content.count(i)==0:\n",
    "            print('There are no patients of blood type',i+'.')\n",
    "        elif content.count(i)==1:\n",
    "                print('There is one patient of blood type',i+'.')\n",
    "        else:print('There are',content.count(i),'patients of blood type', i+'.')\n",
    "bldcount('Bloodtype1.txt')"
   ]
  },
  {
   "cell_type": "markdown",
   "id": "29c87d2b",
   "metadata": {},
   "source": [
    "# Question 8 Python\n",
    "Write a function curconv() that takes as input:\n",
    "1. a currency represented using a string (e.g., 'JPY' for the Japanese Yen or \n",
    "'EUR' for the Euro)\n",
    "2. an amount\n",
    "and then converts and returns the amount in US dollars.\n"
   ]
  },
  {
   "cell_type": "code",
   "execution_count": 15,
   "id": "92f87b91",
   "metadata": {},
   "outputs": [
    {
     "data": {
      "text/plain": [
       "122.96544"
      ]
     },
     "execution_count": 15,
     "metadata": {},
     "output_type": "execute_result"
    }
   ],
   "source": [
    "def curconv(currency, amount):\n",
    "    module= open('Currencies.txt', 'r')\n",
    "    data=module.readlines()\n",
    "    module.close()\n",
    "    for lines in data:\n",
    "        if currency == lines.split()[0]:\n",
    "            return float(lines.split()[1])*amount\n",
    "curconv('EUR',100)"
   ]
  },
  {
   "cell_type": "code",
   "execution_count": 16,
   "id": "52eeb474",
   "metadata": {},
   "outputs": [
    {
     "data": {
      "text/plain": [
       "1.241401"
      ]
     },
     "execution_count": 16,
     "metadata": {},
     "output_type": "execute_result"
    }
   ],
   "source": [
    "curconv('JPY',100)"
   ]
  },
  {
   "cell_type": "markdown",
   "id": "5c0aaed2",
   "metadata": {},
   "source": [
    "# Question 9\n",
    "Trying to add incompatible variables, as in adding 6 + ‘a’\n",
    "TypeError\n",
    "\n",
    "Referring to the 12th item of a list that has only 10 items\n",
    "IndexError\n",
    "\n",
    "Using a value that is out of range for a function’s input, such as calling math.sqrt(-1.0)\n",
    "ValueError\n",
    "\n",
    "Using an undeclared variable, such as print(x) when x has not been defined\n",
    "NameError\n",
    "\n",
    "Trying to open a file that does not exist, such as mistyping the file name or looking in the wrong directory\n",
    "FileNotFoundError"
   ]
  },
  {
   "cell_type": "markdown",
   "id": "add6f6aa",
   "metadata": {},
   "source": [
    "# Question 10 Python\n",
    "Encryption is the process of hiding the meaning of a text by substituting letters in the \n",
    "message with other letters, according to some system. If the process is successful, no \n",
    "one but the intended recipient can understand the encrypted message. Cryptanalysis\n",
    "refers to attempts to undo the encryption, even if some details of the encryption are \n",
    "unknown (for example, if an encrypted message has been intercepted). The first step \n",
    "of cryptanalysis is often to build up a table of letter frequencies in the encrypted text. \n",
    "Assume that the string letters is already defined as \n",
    "'abcdefghijklmnopqrstuvwxyz'. Write a function called frequencies()\n",
    "that takes a string as its only parameter, and returns a list of integers, showing the \n",
    "number of times each character appears in the text. Your function may ignore any \n",
    "characters that are not in letters. "
   ]
  },
  {
   "cell_type": "code",
   "execution_count": 22,
   "id": "9c959e30",
   "metadata": {},
   "outputs": [
    {
     "name": "stdout",
     "output_type": "stream",
     "text": [
      "[1, 1, 1, 3, 5, 1, 1, 2, 1, 0, 1, 0, 1, 2, 4, 0, 1, 2, 0, 2, 1, 0, 1, 1, 0, 0]\n"
     ]
    }
   ],
   "source": [
    "def frequencies(words):\n",
    "    count=0\n",
    "    letters='abcdefghijklmnopqrstuvwxyz'\n",
    "    lst=[]\n",
    "    for i in letters:\n",
    "        for j in words:\n",
    "            if i==j:\n",
    "                count=count+1\n",
    "        lst.append(count)             #takes a single item and adds it to the end of the list\n",
    "        count=0\n",
    "    print(lst)\n",
    "frequencies('The quick red fox got bored and went home.')"
   ]
  },
  {
   "cell_type": "code",
   "execution_count": 23,
   "id": "a938e4b8",
   "metadata": {},
   "outputs": [
    {
     "name": "stdout",
     "output_type": "stream",
     "text": [
      "[1, 0, 0, 0, 1, 0, 0, 0, 0, 0, 0, 1, 0, 0, 0, 2, 0, 0, 0, 0, 0, 0, 0, 0, 0, 0]\n"
     ]
    }
   ],
   "source": [
    "frequencies('apple')"
   ]
  },
  {
   "cell_type": "code",
   "execution_count": null,
   "id": "a24a8722",
   "metadata": {},
   "outputs": [],
   "source": []
  }
 ],
 "metadata": {
  "kernelspec": {
   "display_name": "Python 3 (ipykernel)",
   "language": "python",
   "name": "python3"
  },
  "language_info": {
   "codemirror_mode": {
    "name": "ipython",
    "version": 3
   },
   "file_extension": ".py",
   "mimetype": "text/x-python",
   "name": "python",
   "nbconvert_exporter": "python",
   "pygments_lexer": "ipython3",
   "version": "3.9.7"
  }
 },
 "nbformat": 4,
 "nbformat_minor": 5
}
